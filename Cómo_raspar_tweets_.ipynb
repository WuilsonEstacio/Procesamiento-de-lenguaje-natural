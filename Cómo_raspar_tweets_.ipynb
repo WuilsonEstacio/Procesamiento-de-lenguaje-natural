{
  "nbformat": 4,
  "nbformat_minor": 0,
  "metadata": {
    "colab": {
      "name": "Cómo raspar tweets .ipynb",
      "private_outputs": true,
      "provenance": [],
      "collapsed_sections": [],
      "authorship_tag": "ABX9TyPdi4y+vFzWSnytoKxvK5TO",
      "include_colab_link": true
    },
    "kernelspec": {
      "name": "python3",
      "display_name": "Python 3"
    },
    "language_info": {
      "name": "python"
    }
  },
  "cells": [
    {
      "cell_type": "markdown",
      "metadata": {
        "id": "view-in-github",
        "colab_type": "text"
      },
      "source": [
        "<a href=\"https://colab.research.google.com/github/WuilsonEstacio/Procesamiento-de-lenguaje-natural/blob/main/C%C3%B3mo_raspar_tweets_.ipynb\" target=\"_parent\"><img src=\"https://colab.research.google.com/assets/colab-badge.svg\" alt=\"Open In Colab\"/></a>"
      ]
    },
    {
      "cell_type": "markdown",
      "metadata": {
        "id": "-lnc3xk_4ghG"
      },
      "source": [
        "https://pythonsimplified.com/how-to-scrape-tweets-without-twitters-api-using-twint/"
      ]
    },
    {
      "cell_type": "markdown",
      "metadata": {
        "id": "GisfLiJg4ht2"
      },
      "source": [
        "# Introducción\n",
        "Si está trabajando en un proyecto que se ocupa de los tweets, probablemente esté utilizando la API de Twitter . Para utilizar la API de Twitter, primero debe solicitar una cuenta de desarrollador y obtener su aprobación. Una vez aprobado, se le proporcionará la clave de API, el secreto de clave de API, el token de acceso y el secreto de token de acceso. Una vez que tenga estas claves y el token, puede comenzar a usar la API de Twitter para raspar tweets para su proyecto. \n",
        "\n",
        "Con el paquete Twint , no necesita todas estas claves y token. Todo lo que necesita hacer es instalar el paquete Twint y comenzar a usarlo de inmediato. \n",
        "\n",
        "# Que es Twint\n",
        "Twint es una herramienta avanzada para el desguace de Twitter. Podemos usar esta herramienta para raspar los seguidores, seguidores, tweets, etc. de cualquier usuario sin tener que usar la API de Twitter.\n",
        "\n",
        "Éstos son algunos de los beneficios.\n",
        "\n",
        "La API de Twitter tiene restricciones para raspar solo los últimos 3200 Tweets. Pero Twint puede buscar casi todos los Tweets.\n",
        "La configuración es muy rápida, ya que no es complicado configurar la API de Twitter.\n",
        "Se puede utilizar de forma anónima sin registrarse en Twitter.\n",
        "¡¡Es gratis!! Sin limitaciones de precios.\n",
        "Proporciona opciones fáciles de usar para almacenar tweets raspados en diferentes formatos: CSV, JSON, SQLite y Elasticsearch.\n",
        "Instalación"
      ]
    },
    {
      "cell_type": "code",
      "metadata": {
        "id": "lVH8qEEt4ayH"
      },
      "source": [
        "pip install twint"
      ],
      "execution_count": null,
      "outputs": []
    },
    {
      "cell_type": "markdown",
      "metadata": {
        "id": "rYXCeMDG490s"
      },
      "source": [
        "# Directamente desde Git"
      ]
    },
    {
      "cell_type": "code",
      "metadata": {
        "id": "XA6wyCN54us7"
      },
      "source": [
        "!git clone --depth=1 https://github.com/twintproject/twint.git\n",
        "%cd twint"
      ],
      "execution_count": null,
      "outputs": []
    },
    {
      "cell_type": "code",
      "metadata": {
        "id": "vDhEti_x5RZQ"
      },
      "source": [
        "pip install -r requirements.txt"
      ],
      "execution_count": null,
      "outputs": []
    },
    {
      "cell_type": "markdown",
      "metadata": {
        "id": "stIitSTi5n1W"
      },
      "source": [
        "# Configuración inicial\n",
        "En primer lugar, creamos un objeto de configuración de Twitter llamado  c, y luego se pasan diferentes parámetros al objeto. Estos parámetros definirán cómo vamos a raspar los tweets.\n",
        "\n",
        "En el siguiente ejemplo, solo estamos pasando dos parámetros **Username y Limit** . El nombre de usuario es la identificación de Twitter del usuario y el límite es la cantidad de tweets que se eliminarán. El límite funciona en incrementos de 100, por lo que el límite 1 significa 100 tweets. Finalmente, twint.run.search raspará el twitter y devolverá los tweets."
      ]
    },
    {
      "cell_type": "code",
      "metadata": {
        "id": "RfVi8Y6T5oDk"
      },
      "source": [
        "import twint\n",
        "\n",
        "# Configure\n",
        "c = twint.Config()\n",
        "c.Username = \"bancolombia\"\n",
        "c.Limit = 1\n",
        "\n",
        "# Run\n",
        "twint.run.Search(c)"
      ],
      "execution_count": null,
      "outputs": []
    },
    {
      "cell_type": "markdown",
      "metadata": {
        "id": "GNVwbZ_r9d5r"
      },
      "source": [
        "Si intenta esto en el portátil, es posible que se produzca el error  \"RuntimeError: este bucle de eventos ya se está ejecutando\" . Para resolver este error, siga los pasos a continuación:"
      ]
    },
    {
      "cell_type": "code",
      "metadata": {
        "id": "pwh8aqwN4uys"
      },
      "source": [
        "pip install nest_asyncio"
      ],
      "execution_count": null,
      "outputs": []
    },
    {
      "cell_type": "code",
      "metadata": {
        "id": "7xVOIWbg4u3y"
      },
      "source": [
        "import nest_asyncio\n",
        "nest_asyncio.apply()"
      ],
      "execution_count": null,
      "outputs": []
    },
    {
      "cell_type": "markdown",
      "metadata": {
        "id": "Fn0wJbMS9o0i"
      },
      "source": [
        "Ahora que la configuración inicial está hecha, veamos algunos de los ejemplos a continuación.\n",
        "\n",
        "# 1. Tweets de una fecha específica\n",
        "El siguiente código raspa los tweets de bancolombia desde la fecha 05-Jun-2021. "
      ]
    },
    {
      "cell_type": "code",
      "metadata": {
        "id": "H4sq0WZ09lPV"
      },
      "source": [
        "# Me genera los twits de ese mes en especifico\n",
        "# Configure\n",
        "c = twint.Config()\n",
        "c.Username = \"bancolombia\"\n",
        "c.Limit = 1\n",
        "c.Since = '2021-06-05'\n",
        "\n",
        "# Run\n",
        "twint.run.Search(c)"
      ],
      "execution_count": null,
      "outputs": []
    },
    {
      "cell_type": "markdown",
      "metadata": {
        "id": "0OcM8DyS_XMk"
      },
      "source": [
        "# 2. Tweets con cadenas de búsqueda específicas\n",
        "Este código raspa los tweets de bancolombia que contienen la cadena 'robo' en el dia 2020-01-09 pero si gusta en general solo debe omitir el paso de Since donde va el año"
      ]
    },
    {
      "cell_type": "code",
      "metadata": {
        "id": "QSpGlX82_bSl"
      },
      "source": [
        "# Configure\n",
        "c = twint.Config()\n",
        "c.Username = \"bancolombia\"\n",
        "c.Limit = 1\n",
        "c.Since = '2020-01-09'\n",
        "c.Search = ['robo']\n",
        "\n",
        "# Run\n",
        "twint.run.Search(c)"
      ],
      "execution_count": null,
      "outputs": []
    },
    {
      "cell_type": "markdown",
      "metadata": {
        "id": "4BE3iiBeAmwN"
      },
      "source": [
        "# 3. Tweets con imágenes, videos o medios (imágenes o videos)\n",
        "Código para raspar tweets de bancolombia que contienen imágenes, videos o ambos. El siguiente código busca imágenes y videos. Si solo busca imágenes o videos, configure c. Imágenes o c . Videos en Verdadero ."
      ]
    },
    {
      "cell_type": "code",
      "metadata": {
        "id": "Zc1Bnw9lAkHx"
      },
      "source": [
        "# Configure\n",
        "c = twint.Config()\n",
        "c.Username = \"bancolombia\"\n",
        "c.Limit = 1\n",
        "# c.Images= True\n",
        "# c.Videos = True\n",
        "c.Media = True\n",
        "\n",
        "# Run\n",
        "twint.run.Search(c)"
      ],
      "execution_count": null,
      "outputs": []
    },
    {
      "cell_type": "markdown",
      "metadata": {
        "id": "E6Gad4EYBKqe"
      },
      "source": [
        "# 4. Tweets populares de un usuario\n",
        "El siguiente código le ofrece los populares tweets de bancolombia. Todo lo que tienes que hacer es configurar Popular_tweets en True "
      ]
    },
    {
      "cell_type": "code",
      "metadata": {
        "id": "IFxTeN4yBQmm"
      },
      "source": [
        "# Configure\n",
        "c = twint.Config()\n",
        "c.Username = \"bancolombia\"\n",
        "c.Limit = 1\n",
        "c.Popular_tweets = True\n",
        "\n",
        "# Run\n",
        "twint.run.Search(c)"
      ],
      "execution_count": null,
      "outputs": []
    },
    {
      "cell_type": "markdown",
      "metadata": {
        "id": "U4eXJqjKDLOF"
      },
      "source": [
        "# 5. Tweets basados ​​en min \"me gusta\", min \"retweets y min\" respuestas\n",
        "También puede raspar los tweets en función de los me gusta mínimos, los retweets mínimos y las respuestas mínimas. Debe establecer Min_likes o Min_replies o Min_retweets en el valor requerido. El siguiente código raspa tweets con Min_likes de 300 \n",
        "\n",
        "Un** Retweet** consiste en publicar nuevamente un Tweet. La función Retweet de Twitter ayuda a todos los usuarios a compartir rápidamente un Tweet con todos sus seguidores. Puedes retwittear tus propios Tweets o los de otra persona\n",
        "\n",
        "un **Reply** es una respuesta a un mensaje de otro usuario, el cual se caracteriza por comenzar con tu nombre de usuario. ... Los replies incluyen una liga “in reply to” abajo de cada mensaje, que te lleva al mensaje que se esta contestando"
      ]
    },
    {
      "cell_type": "code",
      "metadata": {
        "id": "_2bUkXhKDSM0"
      },
      "source": [
        "c = twint.Config()\n",
        "c.Username = \"bancolombia\"\n",
        "c.Limit = 1\n",
        "c.Min_likes = 300\n",
        "c.Min_replies = 100\n",
        "c.Min_retweets = 100\n",
        "\n",
        "twint.run.Search(c)"
      ],
      "execution_count": null,
      "outputs": []
    },
    {
      "cell_type": "markdown",
      "metadata": {
        "id": "Mc3jSNDaEN1V"
      },
      "source": [
        "# 6. Almacene los tweets como CSV o JSON\n",
        "Puede almacenar los tweets raspados en un archivo CSV o JSON. Debe establecer Store_json o Store_csv en True y luego mencionar el nombre del archivo de salida en c.Output como se muestra a continuación."
      ]
    },
    {
      "cell_type": "code",
      "metadata": {
        "id": "laZi-WxqEXKN"
      },
      "source": [
        "c = twint.Config()\n",
        "c.Limit = 1\n",
        "c.Username = 'bancolombia'\n",
        "c.Min_likes = 300\n",
        "c.Store_csv = True\n",
        "# c.Store_json = True\n",
        "c.Output = \"tweets.csv\"  # \"tweets.json\" o \"tweets.csv\"\n",
        "\n",
        "twint.run.Search(c)"
      ],
      "execution_count": null,
      "outputs": []
    },
    {
      "cell_type": "markdown",
      "metadata": {
        "id": "lg81g-c6GW6j"
      },
      "source": [
        "# 7. Almacene tweets como Pandas DataFrame\n",
        "Twint también es compatible con Pandas, lo que significa que los tweets raspados se pueden cargar en el marco de datos de Pandas, que puede usar más. El siguiente código, raspa los 100 tweets principales de Sonu Sood con un mínimo de 30,000 y colócalos en un marco de datos."
      ]
    },
    {
      "cell_type": "code",
      "metadata": {
        "id": "9Ln9iBWHGU0O"
      },
      "source": [
        "c = twint.Config()\n",
        "c.Limit = 1\n",
        "c.Username = 'bancolombia'\n",
        "c.Min_likes = 300\n",
        "c.Pandas = True\n",
        "\n",
        "twint.run.Search(c)\n",
        "\n",
        "Tweets_df = twint.storage.panda.Tweets_df"
      ],
      "execution_count": null,
      "outputs": []
    },
    {
      "cell_type": "code",
      "metadata": {
        "id": "W0YpvyfBG5sJ"
      },
      "source": [
        "# lista de  configuracioes\n",
        "#  https://github.com/twintproject/twint/wiki/Configuration\n",
        "'''\n",
        "Variable             Type       Description\n",
        "--------------------------------------------\n",
        "Username             (string) - Twitter user's username\n",
        "User_id              (string) - Twitter user's user_id\n",
        "Search               (string) - Search terms\n",
        "Geo                  (string) - Geo coordinates (lat,lon,km/mi.)\n",
        "Location             (bool)   - Set to True to attempt to grab a Twitter user's location (slow).\n",
        "Near                 (string) - Near a certain City (Example: london)\n",
        "Lang                 (string) - Compatible language codes: https://github.com/twintproject/twint/wiki/Langauge-codes\n",
        "Output               (string) - Name of the output file.\n",
        "Elasticsearch        (string) - Elasticsearch instance\n",
        "Year                 (string) - Filter Tweets before the specified year.\n",
        "Since                (string) - Filter Tweets sent since date, works only with twint.run.Search (Example: 2017-12-27).\n",
        "Until                (string) - Filter Tweets sent until date, works only with twint.run.Search (Example: 2017-12-27).\n",
        "Email                (bool)   - Set to True to show Tweets that _might_ contain emails.\n",
        "Phone                (bool)   - Set to True to show Tweets that _might_ contain phone numbers.\n",
        "Verified             (bool)   - Set to True to only show Tweets by _verified_ users\n",
        "Store_csv            (bool)   - Set to True to write as a csv file.\n",
        "Store_json           (bool)   - Set to True to write as a json file.\n",
        "Custom               (dict)   - Custom csv/json formatting (see below).\n",
        "Show_hashtags        (bool)   - Set to True to show hashtags in the terminal output.\n",
        "Limit                (int)    - Number of Tweets to pull (Increments of 20).\n",
        "Count                (bool)   - Count the total number of Tweets fetched.\n",
        "Stats                (bool)   - Set to True to show Tweet stats in the terminal output.\n",
        "Database             (string) - Store Tweets in a sqlite3 database.\n",
        "To                   (string) - Display Tweets tweeted _to_ the specified user.\n",
        "All                  (string) - Display all Tweets associated with the mentioned user.\n",
        "Debug                (bool)   - Store information in debug logs.\n",
        "Format               (string) - Custom terminal output formatting.\n",
        "Essid                (string) - Elasticsearch session ID.\n",
        "User_full            (bool)   - Set to True to display full user information. By default, only usernames are shown.\n",
        "Profile_full         (bool)   - Set to True to use a slow, but effective method to enumerate a user's Timeline.\n",
        "Store_object         (bool)   - Store tweets/user infos/usernames in JSON objects.\n",
        "Store_pandas         (bool)   - Save Tweets in a DataFrame (Pandas) file.\n",
        "Pandas_type          (string) - Specify HDF5 or Pickle (HDF5 as default).\n",
        "Pandas               (bool)   - Enable Pandas integration.\n",
        "Index_tweets         (string) - Custom Elasticsearch Index name for Tweets (default: twinttweets).\n",
        "Index_follow         (string) - Custom Elasticsearch Index name for Follows (default: twintgraph).\n",
        "Index_users          (string) - Custom Elasticsearch Index name for Users (default: twintuser).\n",
        "Retries_count        (int)    - Number of retries of requests (default: 10).\n",
        "Resume               (string) - Resume from the latest scroll ID, specify the filename that contains the ID.\n",
        "Images               (bool)   - Display only Tweets with images.\n",
        "Videos               (bool)   - Display only Tweets with videos.\n",
        "Media                (bool)   - Display Tweets with only images or videos.\n",
        "Pandas_clean         (bool)   - Automatically clean Pandas dataframe at every scrape.\n",
        "Lowercase            (bool)   - Automatically convert uppercases in lowercases.\n",
        "Pandas_au            (bool)   - Automatically update the Pandas dataframe at every scrape.\n",
        "Proxy_host           (string) - Proxy hostname or IP.\n",
        "Proxy_port           (int)    - Proxy port.\n",
        "Proxy_type           (string) - Proxy type.\n",
        "Tor_control_port     (int)    - Tor control port.\n",
        "Tor_control_password (string) - Tor control password (not hashed).\n",
        "Retweets             (bool)   - Get retweets done by the user.\n",
        "Hide_output          (bool)   - Hide output.\n",
        "Popular_tweets       (bool)   - Scrape popular tweets, not most recent (default: False).\n",
        "Skip_certs           (bool)   - Skip certs verification for Elasticsearch, useful for SSC (default: False).\n",
        "Native_retweets      (bool)   - Filter the results for retweets only (warning: a few tweets will be returned!).\n",
        "Min_likes            (int)    - Filter the tweets by minimum number of likes.\n",
        "Min_retweets         (int)    - Filter the tweets by minimum number of retweets.\n",
        "Min_replies          (int)    - Filter the tweets by minimum number of replies.\n",
        "Links                (string) - Include or exclude tweets containing one o more links. If not specified you will get both tweets that might contain links or not. (please specify `include` or `exclude`)\n",
        "Source               (string) - Filter the tweets for specific source client. (example: `--source \"Twitter Web Client\"`)\n",
        "Members_list         (string) - Filter the tweets sent by users in a given list.\n",
        "Filter_retweets      (bool)   - Exclude retweets from the results.\n",
        "\n",
        "'''\n",
        "\n"
      ],
      "execution_count": null,
      "outputs": []
    }
  ]
}